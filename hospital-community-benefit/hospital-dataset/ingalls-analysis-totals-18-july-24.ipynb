{
 "cells": [
  {
   "cell_type": "code",
   "execution_count": 2,
   "id": "6191c405-f0aa-44b4-afcf-164f488df728",
   "metadata": {},
   "outputs": [
    {
     "data": {
      "text/html": [
       "<div>\n",
       "<style scoped>\n",
       "    .dataframe tbody tr th:only-of-type {\n",
       "        vertical-align: middle;\n",
       "    }\n",
       "\n",
       "    .dataframe tbody tr th {\n",
       "        vertical-align: top;\n",
       "    }\n",
       "\n",
       "    .dataframe thead th {\n",
       "        text-align: right;\n",
       "    }\n",
       "</style>\n",
       "<table border=\"1\" class=\"dataframe\">\n",
       "  <thead>\n",
       "    <tr style=\"text-align: right;\">\n",
       "      <th></th>\n",
       "      <th>url</th>\n",
       "      <th>tax_year</th>\n",
       "      <th>financial_assist_total</th>\n",
       "      <th>financial_assistance_net</th>\n",
       "      <th>medicaid_total</th>\n",
       "      <th>medicaid_net</th>\n",
       "      <th>community_health_improvement_scheme_total</th>\n",
       "      <th>community_health_improvement_scheme_net</th>\n",
       "      <th>health_prof_edu_total</th>\n",
       "      <th>health_prof_edu_net</th>\n",
       "      <th>subsidised_health_service</th>\n",
       "      <th>grand_total_after_other_benefits</th>\n",
       "      <th>grand_net_after_other_benefits</th>\n",
       "    </tr>\n",
       "  </thead>\n",
       "  <tbody>\n",
       "    <tr>\n",
       "      <th>0</th>\n",
       "      <td>https://projects.propublica.org/nonprofits/ful...</td>\n",
       "      <td>2022</td>\n",
       "      <td>10,816,048</td>\n",
       "      <td>10,816,048</td>\n",
       "      <td>118,006,816</td>\n",
       "      <td>20,701,445</td>\n",
       "      <td>803,824</td>\n",
       "      <td>803,824</td>\n",
       "      <td>1,695,226</td>\n",
       "      <td>1,096,839</td>\n",
       "      <td>\\n        √Ç¬†\\n</td>\n",
       "      <td>131,423,989</td>\n",
       "      <td>33,520,231</td>\n",
       "    </tr>\n",
       "    <tr>\n",
       "      <th>1</th>\n",
       "      <td>https://projects.propublica.org/nonprofits/ful...</td>\n",
       "      <td>2021</td>\n",
       "      <td>6,902,992</td>\n",
       "      <td>6,902,992</td>\n",
       "      <td>114,278,532</td>\n",
       "      <td>24,068,691</td>\n",
       "      <td>419,740</td>\n",
       "      <td>419,740</td>\n",
       "      <td>1,722,155</td>\n",
       "      <td>1,239,060</td>\n",
       "      <td>\\n        √Ç¬†\\n</td>\n",
       "      <td>123,379,103</td>\n",
       "      <td>32,686,167</td>\n",
       "    </tr>\n",
       "    <tr>\n",
       "      <th>2</th>\n",
       "      <td>https://projects.propublica.org/nonprofits/ful...</td>\n",
       "      <td>2020</td>\n",
       "      <td>7,165,790</td>\n",
       "      <td>7,165,790</td>\n",
       "      <td>108,698,800</td>\n",
       "      <td>30,016,267</td>\n",
       "      <td>196,950</td>\n",
       "      <td>196,950</td>\n",
       "      <td>1,607,434</td>\n",
       "      <td>1,164,559</td>\n",
       "      <td>\\n        √Ç¬†\\n</td>\n",
       "      <td>117,760,110</td>\n",
       "      <td>38,634,702</td>\n",
       "    </tr>\n",
       "    <tr>\n",
       "      <th>3</th>\n",
       "      <td>https://projects.propublica.org/nonprofits/ful...</td>\n",
       "      <td>2019</td>\n",
       "      <td>7,895,292</td>\n",
       "      <td>7,895,292</td>\n",
       "      <td>97,412,935</td>\n",
       "      <td>20,006,951</td>\n",
       "      <td>172,114</td>\n",
       "      <td>172,114</td>\n",
       "      <td>2,055,507</td>\n",
       "      <td>1,433,547</td>\n",
       "      <td>\\n        √Ç¬†\\n</td>\n",
       "      <td>107,641,844</td>\n",
       "      <td>29,613,900</td>\n",
       "    </tr>\n",
       "    <tr>\n",
       "      <th>4</th>\n",
       "      <td>https://projects.propublica.org/nonprofits/ful...</td>\n",
       "      <td>2018</td>\n",
       "      <td>6,297,014</td>\n",
       "      <td>6,297,014</td>\n",
       "      <td>85,203,365</td>\n",
       "      <td>25,568,577</td>\n",
       "      <td>174,186</td>\n",
       "      <td>174,186</td>\n",
       "      <td>1,669,396</td>\n",
       "      <td>974,001</td>\n",
       "      <td>\\n        √Ç¬†\\n</td>\n",
       "      <td>93,418,753</td>\n",
       "      <td>33,088,570</td>\n",
       "    </tr>\n",
       "    <tr>\n",
       "      <th>5</th>\n",
       "      <td>https://projects.propublica.org/nonprofits/ful...</td>\n",
       "      <td>2017</td>\n",
       "      <td>4,913,672</td>\n",
       "      <td>4,913,672</td>\n",
       "      <td>86,013,281</td>\n",
       "      <td>45,302,990</td>\n",
       "      <td>NaN</td>\n",
       "      <td>NaN</td>\n",
       "      <td>2,002,690</td>\n",
       "      <td>1,408,326</td>\n",
       "      <td>\\n        √Ç¬†\\n</td>\n",
       "      <td>92,929,643</td>\n",
       "      <td>51,624,988</td>\n",
       "    </tr>\n",
       "    <tr>\n",
       "      <th>6</th>\n",
       "      <td>https://projects.propublica.org/nonprofits/ful...</td>\n",
       "      <td>2015</td>\n",
       "      <td>6,165,171</td>\n",
       "      <td>6,165,171</td>\n",
       "      <td>81,365,357</td>\n",
       "      <td>27,378,615</td>\n",
       "      <td>654,421</td>\n",
       "      <td>654,421</td>\n",
       "      <td>583,323</td>\n",
       "      <td>344,703</td>\n",
       "      <td>\\n        √Ç¬†\\n</td>\n",
       "      <td>89,036,435</td>\n",
       "      <td>34,811,073</td>\n",
       "    </tr>\n",
       "    <tr>\n",
       "      <th>7</th>\n",
       "      <td>https://projects.propublica.org/nonprofits/ful...</td>\n",
       "      <td>2014</td>\n",
       "      <td>8,186,314</td>\n",
       "      <td>8,186,314</td>\n",
       "      <td>73,607,411</td>\n",
       "      <td>24,202,742</td>\n",
       "      <td>320,627</td>\n",
       "      <td>320,627</td>\n",
       "      <td>589,930</td>\n",
       "      <td>277,620</td>\n",
       "      <td>\\n        √Ç¬†\\n</td>\n",
       "      <td>83,733,602</td>\n",
       "      <td>33,805,954</td>\n",
       "    </tr>\n",
       "    <tr>\n",
       "      <th>8</th>\n",
       "      <td>https://projects.propublica.org/nonprofits/ful...</td>\n",
       "      <td>2013</td>\n",
       "      <td>8,259,183</td>\n",
       "      <td>8,259,183</td>\n",
       "      <td>65,290,154</td>\n",
       "      <td>23,021,308</td>\n",
       "      <td>324,123</td>\n",
       "      <td>324,123</td>\n",
       "      <td>319,032</td>\n",
       "      <td>83,601</td>\n",
       "      <td>\\n        √Ç¬†\\n</td>\n",
       "      <td>75,480,521</td>\n",
       "      <td>32,675,997</td>\n",
       "    </tr>\n",
       "  </tbody>\n",
       "</table>\n",
       "</div>"
      ],
      "text/plain": [
       "                                                 url  tax_year  \\\n",
       "0  https://projects.propublica.org/nonprofits/ful...      2022   \n",
       "1  https://projects.propublica.org/nonprofits/ful...      2021   \n",
       "2  https://projects.propublica.org/nonprofits/ful...      2020   \n",
       "3  https://projects.propublica.org/nonprofits/ful...      2019   \n",
       "4  https://projects.propublica.org/nonprofits/ful...      2018   \n",
       "5  https://projects.propublica.org/nonprofits/ful...      2017   \n",
       "6  https://projects.propublica.org/nonprofits/ful...      2015   \n",
       "7  https://projects.propublica.org/nonprofits/ful...      2014   \n",
       "8  https://projects.propublica.org/nonprofits/ful...      2013   \n",
       "\n",
       "  financial_assist_total financial_assistance_net medicaid_total medicaid_net  \\\n",
       "0             10,816,048               10,816,048    118,006,816   20,701,445   \n",
       "1              6,902,992                6,902,992    114,278,532   24,068,691   \n",
       "2              7,165,790                7,165,790    108,698,800   30,016,267   \n",
       "3              7,895,292                7,895,292     97,412,935   20,006,951   \n",
       "4              6,297,014                6,297,014     85,203,365   25,568,577   \n",
       "5              4,913,672                4,913,672     86,013,281   45,302,990   \n",
       "6              6,165,171                6,165,171     81,365,357   27,378,615   \n",
       "7              8,186,314                8,186,314     73,607,411   24,202,742   \n",
       "8              8,259,183                8,259,183     65,290,154   23,021,308   \n",
       "\n",
       "  community_health_improvement_scheme_total  \\\n",
       "0                                   803,824   \n",
       "1                                   419,740   \n",
       "2                                   196,950   \n",
       "3                                   172,114   \n",
       "4                                   174,186   \n",
       "5                                       NaN   \n",
       "6                                   654,421   \n",
       "7                                   320,627   \n",
       "8                                   324,123   \n",
       "\n",
       "  community_health_improvement_scheme_net health_prof_edu_total  \\\n",
       "0                                 803,824             1,695,226   \n",
       "1                                 419,740             1,722,155   \n",
       "2                                 196,950             1,607,434   \n",
       "3                                 172,114             2,055,507   \n",
       "4                                 174,186             1,669,396   \n",
       "5                                     NaN             2,002,690   \n",
       "6                                 654,421               583,323   \n",
       "7                                 320,627               589,930   \n",
       "8                                 324,123               319,032   \n",
       "\n",
       "  health_prof_edu_net subsidised_health_service  \\\n",
       "0           1,096,839    \\n        √Ç¬†\\n         \n",
       "1           1,239,060    \\n        √Ç¬†\\n         \n",
       "2           1,164,559    \\n        √Ç¬†\\n         \n",
       "3           1,433,547    \\n        √Ç¬†\\n         \n",
       "4             974,001    \\n        √Ç¬†\\n         \n",
       "5           1,408,326    \\n        √Ç¬†\\n         \n",
       "6             344,703    \\n        √Ç¬†\\n         \n",
       "7             277,620    \\n        √Ç¬†\\n         \n",
       "8              83,601    \\n        √Ç¬†\\n         \n",
       "\n",
       "  grand_total_after_other_benefits grand_net_after_other_benefits  \n",
       "0                      131,423,989                     33,520,231  \n",
       "1                      123,379,103                     32,686,167  \n",
       "2                      117,760,110                     38,634,702  \n",
       "3                      107,641,844                     29,613,900  \n",
       "4                       93,418,753                     33,088,570  \n",
       "5                       92,929,643                     51,624,988  \n",
       "6                       89,036,435                     34,811,073  \n",
       "7                       83,733,602                     33,805,954  \n",
       "8                       75,480,521                     32,675,997  "
      ]
     },
     "execution_count": 2,
     "metadata": {},
     "output_type": "execute_result"
    }
   ],
   "source": [
    "import pandas as pd\n",
    "\n",
    "df = pd.read_csv(\"ingalls_data_20july24.csv\", encoding='mac_roman')\n",
    "\n",
    "df"
   ]
  },
  {
   "cell_type": "markdown",
   "id": "25fd4152-424a-4648-bafb-8abe3e65e142",
   "metadata": {},
   "source": [
    "#### How much did Ingalls spend on financial assistance? Has it gone up or down?"
   ]
  },
  {
   "cell_type": "code",
   "execution_count": 3,
   "id": "e9838c5f-661f-4973-8e05-ad750092a323",
   "metadata": {},
   "outputs": [
    {
     "data": {
      "text/html": [
       "<div>\n",
       "<style scoped>\n",
       "    .dataframe tbody tr th:only-of-type {\n",
       "        vertical-align: middle;\n",
       "    }\n",
       "\n",
       "    .dataframe tbody tr th {\n",
       "        vertical-align: top;\n",
       "    }\n",
       "\n",
       "    .dataframe thead th {\n",
       "        text-align: right;\n",
       "    }\n",
       "</style>\n",
       "<table border=\"1\" class=\"dataframe\">\n",
       "  <thead>\n",
       "    <tr style=\"text-align: right;\">\n",
       "      <th></th>\n",
       "      <th>tax_year</th>\n",
       "      <th>financial_assistance_net</th>\n",
       "    </tr>\n",
       "  </thead>\n",
       "  <tbody>\n",
       "    <tr>\n",
       "      <th>0</th>\n",
       "      <td>2022</td>\n",
       "      <td>10,816,048</td>\n",
       "    </tr>\n",
       "    <tr>\n",
       "      <th>1</th>\n",
       "      <td>2021</td>\n",
       "      <td>6,902,992</td>\n",
       "    </tr>\n",
       "    <tr>\n",
       "      <th>2</th>\n",
       "      <td>2020</td>\n",
       "      <td>7,165,790</td>\n",
       "    </tr>\n",
       "    <tr>\n",
       "      <th>3</th>\n",
       "      <td>2019</td>\n",
       "      <td>7,895,292</td>\n",
       "    </tr>\n",
       "    <tr>\n",
       "      <th>4</th>\n",
       "      <td>2018</td>\n",
       "      <td>6,297,014</td>\n",
       "    </tr>\n",
       "    <tr>\n",
       "      <th>5</th>\n",
       "      <td>2017</td>\n",
       "      <td>4,913,672</td>\n",
       "    </tr>\n",
       "    <tr>\n",
       "      <th>6</th>\n",
       "      <td>2015</td>\n",
       "      <td>6,165,171</td>\n",
       "    </tr>\n",
       "    <tr>\n",
       "      <th>7</th>\n",
       "      <td>2014</td>\n",
       "      <td>8,186,314</td>\n",
       "    </tr>\n",
       "    <tr>\n",
       "      <th>8</th>\n",
       "      <td>2013</td>\n",
       "      <td>8,259,183</td>\n",
       "    </tr>\n",
       "  </tbody>\n",
       "</table>\n",
       "</div>"
      ],
      "text/plain": [
       "   tax_year financial_assistance_net\n",
       "0      2022               10,816,048\n",
       "1      2021                6,902,992\n",
       "2      2020                7,165,790\n",
       "3      2019                7,895,292\n",
       "4      2018                6,297,014\n",
       "5      2017                4,913,672\n",
       "6      2015                6,165,171\n",
       "7      2014                8,186,314\n",
       "8      2013                8,259,183"
      ]
     },
     "execution_count": 3,
     "metadata": {},
     "output_type": "execute_result"
    }
   ],
   "source": [
    "df[['tax_year', 'financial_assistance_net']].sort_values(by=\"tax_year\", ascending=False)\n",
    "\n",
    "#adjust for inflation"
   ]
  },
  {
   "cell_type": "markdown",
   "id": "ffa28ea9-007a-41ac-aee1-037c577490dc",
   "metadata": {},
   "source": [
    "#### How much did Ingalls spend total on community benefit?"
   ]
  },
  {
   "cell_type": "code",
   "execution_count": 4,
   "id": "014bc886-8817-450d-9ebd-6455116807d4",
   "metadata": {},
   "outputs": [
    {
     "data": {
      "text/html": [
       "<div>\n",
       "<style scoped>\n",
       "    .dataframe tbody tr th:only-of-type {\n",
       "        vertical-align: middle;\n",
       "    }\n",
       "\n",
       "    .dataframe tbody tr th {\n",
       "        vertical-align: top;\n",
       "    }\n",
       "\n",
       "    .dataframe thead th {\n",
       "        text-align: right;\n",
       "    }\n",
       "</style>\n",
       "<table border=\"1\" class=\"dataframe\">\n",
       "  <thead>\n",
       "    <tr style=\"text-align: right;\">\n",
       "      <th></th>\n",
       "      <th>tax_year</th>\n",
       "      <th>grand_net_after_other_benefits</th>\n",
       "    </tr>\n",
       "  </thead>\n",
       "  <tbody>\n",
       "    <tr>\n",
       "      <th>0</th>\n",
       "      <td>2022</td>\n",
       "      <td>33,520,231</td>\n",
       "    </tr>\n",
       "    <tr>\n",
       "      <th>1</th>\n",
       "      <td>2021</td>\n",
       "      <td>32,686,167</td>\n",
       "    </tr>\n",
       "    <tr>\n",
       "      <th>2</th>\n",
       "      <td>2020</td>\n",
       "      <td>38,634,702</td>\n",
       "    </tr>\n",
       "    <tr>\n",
       "      <th>3</th>\n",
       "      <td>2019</td>\n",
       "      <td>29,613,900</td>\n",
       "    </tr>\n",
       "    <tr>\n",
       "      <th>4</th>\n",
       "      <td>2018</td>\n",
       "      <td>33,088,570</td>\n",
       "    </tr>\n",
       "    <tr>\n",
       "      <th>5</th>\n",
       "      <td>2017</td>\n",
       "      <td>51,624,988</td>\n",
       "    </tr>\n",
       "    <tr>\n",
       "      <th>6</th>\n",
       "      <td>2015</td>\n",
       "      <td>34,811,073</td>\n",
       "    </tr>\n",
       "    <tr>\n",
       "      <th>7</th>\n",
       "      <td>2014</td>\n",
       "      <td>33,805,954</td>\n",
       "    </tr>\n",
       "    <tr>\n",
       "      <th>8</th>\n",
       "      <td>2013</td>\n",
       "      <td>32,675,997</td>\n",
       "    </tr>\n",
       "  </tbody>\n",
       "</table>\n",
       "</div>"
      ],
      "text/plain": [
       "   tax_year grand_net_after_other_benefits\n",
       "0      2022                     33,520,231\n",
       "1      2021                     32,686,167\n",
       "2      2020                     38,634,702\n",
       "3      2019                     29,613,900\n",
       "4      2018                     33,088,570\n",
       "5      2017                     51,624,988\n",
       "6      2015                     34,811,073\n",
       "7      2014                     33,805,954\n",
       "8      2013                     32,675,997"
      ]
     },
     "execution_count": 4,
     "metadata": {},
     "output_type": "execute_result"
    }
   ],
   "source": [
    "df[['tax_year', 'grand_net_after_other_benefits']].sort_values(by=\"tax_year\", ascending=False) "
   ]
  },
  {
   "cell_type": "markdown",
   "id": "9fde46eb-ad9f-4a79-bd61-1ef4d4a3b3b8",
   "metadata": {},
   "source": [
    "## Getting totals / data cleaning (getting rid of columns)"
   ]
  },
  {
   "cell_type": "code",
   "execution_count": null,
   "id": "8a85b800-88f9-4f23-8311-dea8a628705e",
   "metadata": {},
   "outputs": [],
   "source": [
    "df[['tax_year', 'grand_net_after_other_benefits']].sort_values(by=\"tax_year\", ascending=False) "
   ]
  },
  {
   "cell_type": "code",
   "execution_count": 14,
   "id": "6b003451-a60c-4638-a43a-41b7bbda1bca",
   "metadata": {},
   "outputs": [],
   "source": [
    "#df['grand_net_after_other_benefits'].replace(\",\" \"\")"
   ]
  },
  {
   "cell_type": "code",
   "execution_count": null,
   "id": "8d13eca3-eae8-4edf-99e9-861ee9d9eac7",
   "metadata": {},
   "outputs": [],
   "source": [
    "df[['tax_year', 'grand_net_after_other_benefits']].sort_values(by=\"tax_year\", ascending=False)"
   ]
  },
  {
   "cell_type": "code",
   "execution_count": null,
   "id": "ef664c6e-884c-4a2f-8358-d2ffc8fa19dd",
   "metadata": {},
   "outputs": [],
   "source": [
    "#**don't reassign the column name, create a new one e.g. financial_assistance_net_int"
   ]
  },
  {
   "cell_type": "code",
   "execution_count": 33,
   "id": "4746d73e-6ce8-4b36-9648-a3380dfe24eb",
   "metadata": {},
   "outputs": [
    {
     "data": {
      "text/plain": [
       "66601476.0"
      ]
     },
     "execution_count": 33,
     "metadata": {},
     "output_type": "execute_result"
    }
   ],
   "source": [
    "#for a breakdown of the spending, pie chart - so add up the nets & make sure they square with the total:\n",
    "df[\"financial_assistance_net_int\"] = df[\"financial_assistance_net\"].replace(\",\",\"\").astype(float) \n",
    "\n",
    "df[\"financial_assistance_net_int\"].sum()"
   ]
  },
  {
   "cell_type": "code",
   "execution_count": 35,
   "id": "dc550c37-b921-4779-88e1-441cd5275412",
   "metadata": {},
   "outputs": [
    {
     "data": {
      "text/plain": [
       "240267586.0"
      ]
     },
     "execution_count": 35,
     "metadata": {},
     "output_type": "execute_result"
    }
   ],
   "source": [
    "df[\"medicaid_net\"] = df[\"medicaid_net\"].replace(\",\",\"\").astype(float)\n",
    "\n",
    "df[\"medicaid_net\"].sum()"
   ]
  },
  {
   "cell_type": "code",
   "execution_count": 36,
   "id": "77380e29-65e8-45bd-a0ab-82ba1b010360",
   "metadata": {},
   "outputs": [],
   "source": [
    "df[\"community_health_improvement_scheme_net\"] = df[\"community_health_improvement_scheme_net\"].str.replace(\",\",\"\").astype(float) "
   ]
  },
  {
   "cell_type": "code",
   "execution_count": 37,
   "id": "bdf52544-9224-4470-bed3-ab42a9857eb8",
   "metadata": {},
   "outputs": [
    {
     "data": {
      "text/plain": [
       "3065985.0"
      ]
     },
     "execution_count": 37,
     "metadata": {},
     "output_type": "execute_result"
    }
   ],
   "source": [
    "df[\"community_health_improvement_scheme_net\"].sum()"
   ]
  },
  {
   "cell_type": "code",
   "execution_count": 38,
   "id": "459aba7f-d69c-4d0e-b459-318d9a035c0e",
   "metadata": {},
   "outputs": [],
   "source": [
    "df[\"health_prof_edu_net_int\"] = df[\"health_prof_edu_net\"].str.replace(\",\",\"\").astype(float)"
   ]
  },
  {
   "cell_type": "code",
   "execution_count": 39,
   "id": "3e9ca4b1-a29d-4102-bf7c-443eb69bb5c2",
   "metadata": {},
   "outputs": [
    {
     "data": {
      "text/plain": [
       "8022256.0"
      ]
     },
     "execution_count": 39,
     "metadata": {},
     "output_type": "execute_result"
    }
   ],
   "source": [
    "df[\"health_prof_edu_net_int\"].sum()"
   ]
  },
  {
   "cell_type": "code",
   "execution_count": 40,
   "id": "0aadb91c-fe86-472e-b219-a17997858c57",
   "metadata": {},
   "outputs": [],
   "source": [
    "df[\"grand_net_after_other_benefits_int\"] = df[\"grand_net_after_other_benefits\"].str.replace(\",\",\"\").astype(float) "
   ]
  },
  {
   "cell_type": "code",
   "execution_count": 41,
   "id": "2c445540-4ed2-4887-92bc-469b5eef1032",
   "metadata": {},
   "outputs": [
    {
     "data": {
      "text/plain": [
       "320461582.0"
      ]
     },
     "execution_count": 41,
     "metadata": {},
     "output_type": "execute_result"
    }
   ],
   "source": [
    "df[\"grand_net_after_other_benefits_int\"].sum()\n",
    "\n",
    "#summing my df values for this column"
   ]
  },
  {
   "cell_type": "code",
   "execution_count": null,
   "id": "3b658b3a-05d5-44b1-b025-26863cef378d",
   "metadata": {},
   "outputs": [],
   "source": [
    "#When I added the totals of the various other giving together (see below), and subtracted it from the sum of the net giving categories, \n",
    "#I got a total that was 2,504,279 less than the net value\n",
    "#What is this spending for? - ask UChicago / Ingalls"
   ]
  },
  {
   "cell_type": "code",
   "execution_count": 43,
   "id": "adb55538-36ba-4f0a-9e50-30cd28bdd42d",
   "metadata": {},
   "outputs": [
    {
     "data": {
      "text/plain": [
       "financial_assistance_net_int                66601476.0\n",
       "medicaid_net                               240267586.0\n",
       "community_health_improvement_scheme_net      3065985.0\n",
       "health_prof_edu_net_int                      8022256.0\n",
       "dtype: float64"
      ]
     },
     "execution_count": 43,
     "metadata": {},
     "output_type": "execute_result"
    }
   ],
   "source": [
    "df[[\"financial_assistance_net_int\", \"medicaid_net\", \"community_health_improvement_scheme_net\", \"health_prof_edu_net_int\"]].sum()"
   ]
  },
  {
   "cell_type": "code",
   "execution_count": 45,
   "id": "637f1ecf-6ae4-46e5-b608-a9b64a57b63b",
   "metadata": {},
   "outputs": [
    {
     "data": {
      "text/plain": [
       "317957303"
      ]
     },
     "execution_count": 45,
     "metadata": {},
     "output_type": "execute_result"
    }
   ],
   "source": [
    "66601476 + 240267586 + 3065985 + 8022256"
   ]
  },
  {
   "cell_type": "code",
   "execution_count": null,
   "id": "14ec9785-0a1c-4d10-9783-9308d0fba486",
   "metadata": {},
   "outputs": [],
   "source": [
    "#The total numbers don't fully add up - I think it's bcause I don't have info for subsidised health service"
   ]
  },
  {
   "cell_type": "code",
   "execution_count": 46,
   "id": "35a0480e-cce7-46c5-bd03-9baec4b78893",
   "metadata": {},
   "outputs": [
    {
     "data": {
      "text/plain": [
       "2504279"
      ]
     },
     "execution_count": 46,
     "metadata": {},
     "output_type": "execute_result"
    }
   ],
   "source": [
    "320461582 - 317957303\n",
    "#I'm missing $2,505,279"
   ]
  },
  {
   "cell_type": "code",
   "execution_count": 5,
   "id": "81ff5461-3feb-4b88-b6bd-2e9142ea26d8",
   "metadata": {},
   "outputs": [
    {
     "data": {
      "text/html": [
       "<div>\n",
       "<style scoped>\n",
       "    .dataframe tbody tr th:only-of-type {\n",
       "        vertical-align: middle;\n",
       "    }\n",
       "\n",
       "    .dataframe tbody tr th {\n",
       "        vertical-align: top;\n",
       "    }\n",
       "\n",
       "    .dataframe thead th {\n",
       "        text-align: right;\n",
       "    }\n",
       "</style>\n",
       "<table border=\"1\" class=\"dataframe\">\n",
       "  <thead>\n",
       "    <tr style=\"text-align: right;\">\n",
       "      <th></th>\n",
       "      <th>url</th>\n",
       "      <th>tax_year</th>\n",
       "      <th>financial_assist_total</th>\n",
       "      <th>financial_assistance_net</th>\n",
       "      <th>medicaid_total</th>\n",
       "      <th>medicaid_net</th>\n",
       "      <th>community_health_improvement_scheme_total</th>\n",
       "      <th>community_health_improvement_scheme_net</th>\n",
       "      <th>health_prof_edu_total</th>\n",
       "      <th>health_prof_edu_net</th>\n",
       "      <th>subsidised_health_service</th>\n",
       "      <th>grand_total_after_other_benefits</th>\n",
       "      <th>grand_net_after_other_benefits</th>\n",
       "      <th>percent_of_total_spending</th>\n",
       "    </tr>\n",
       "  </thead>\n",
       "  <tbody>\n",
       "    <tr>\n",
       "      <th>0</th>\n",
       "      <td>https://projects.propublica.org/nonprofits/ful...</td>\n",
       "      <td>2022</td>\n",
       "      <td>10,816,048</td>\n",
       "      <td>10,816,048</td>\n",
       "      <td>118,006,816</td>\n",
       "      <td>20,701,445</td>\n",
       "      <td>803,824</td>\n",
       "      <td>803,824</td>\n",
       "      <td>1,695,226</td>\n",
       "      <td>1,096,839</td>\n",
       "      <td>\\n        √Ç¬†\\n</td>\n",
       "      <td>131,423,989</td>\n",
       "      <td>33,520,231</td>\n",
       "      <td>9.51</td>\n",
       "    </tr>\n",
       "    <tr>\n",
       "      <th>1</th>\n",
       "      <td>https://projects.propublica.org/nonprofits/ful...</td>\n",
       "      <td>2021</td>\n",
       "      <td>6,902,992</td>\n",
       "      <td>6,902,992</td>\n",
       "      <td>114,278,532</td>\n",
       "      <td>24,068,691</td>\n",
       "      <td>419,740</td>\n",
       "      <td>419,740</td>\n",
       "      <td>1,722,155</td>\n",
       "      <td>1,239,060</td>\n",
       "      <td>\\n        √Ç¬†\\n</td>\n",
       "      <td>123,379,103</td>\n",
       "      <td>32,686,167</td>\n",
       "      <td>9.11</td>\n",
       "    </tr>\n",
       "    <tr>\n",
       "      <th>2</th>\n",
       "      <td>https://projects.propublica.org/nonprofits/ful...</td>\n",
       "      <td>2020</td>\n",
       "      <td>7,165,790</td>\n",
       "      <td>7,165,790</td>\n",
       "      <td>108,698,800</td>\n",
       "      <td>30,016,267</td>\n",
       "      <td>196,950</td>\n",
       "      <td>196,950</td>\n",
       "      <td>1,607,434</td>\n",
       "      <td>1,164,559</td>\n",
       "      <td>\\n        √Ç¬†\\n</td>\n",
       "      <td>117,760,110</td>\n",
       "      <td>38,634,702</td>\n",
       "      <td>11.30</td>\n",
       "    </tr>\n",
       "    <tr>\n",
       "      <th>3</th>\n",
       "      <td>https://projects.propublica.org/nonprofits/ful...</td>\n",
       "      <td>2019</td>\n",
       "      <td>7,895,292</td>\n",
       "      <td>7,895,292</td>\n",
       "      <td>97,412,935</td>\n",
       "      <td>20,006,951</td>\n",
       "      <td>172,114</td>\n",
       "      <td>172,114</td>\n",
       "      <td>2,055,507</td>\n",
       "      <td>1,433,547</td>\n",
       "      <td>\\n        √Ç¬†\\n</td>\n",
       "      <td>107,641,844</td>\n",
       "      <td>29,613,900</td>\n",
       "      <td>9.09</td>\n",
       "    </tr>\n",
       "    <tr>\n",
       "      <th>4</th>\n",
       "      <td>https://projects.propublica.org/nonprofits/ful...</td>\n",
       "      <td>2018</td>\n",
       "      <td>6,297,014</td>\n",
       "      <td>6,297,014</td>\n",
       "      <td>85,203,365</td>\n",
       "      <td>25,568,577</td>\n",
       "      <td>174,186</td>\n",
       "      <td>174,186</td>\n",
       "      <td>1,669,396</td>\n",
       "      <td>974,001</td>\n",
       "      <td>\\n        √Ç¬†\\n</td>\n",
       "      <td>93,418,753</td>\n",
       "      <td>33,088,570</td>\n",
       "      <td>10.88</td>\n",
       "    </tr>\n",
       "    <tr>\n",
       "      <th>5</th>\n",
       "      <td>https://projects.propublica.org/nonprofits/ful...</td>\n",
       "      <td>2017</td>\n",
       "      <td>4,913,672</td>\n",
       "      <td>4,913,672</td>\n",
       "      <td>86,013,281</td>\n",
       "      <td>45,302,990</td>\n",
       "      <td>NaN</td>\n",
       "      <td>NaN</td>\n",
       "      <td>2,002,690</td>\n",
       "      <td>1,408,326</td>\n",
       "      <td>\\n        √Ç¬†\\n</td>\n",
       "      <td>92,929,643</td>\n",
       "      <td>51,624,988</td>\n",
       "      <td>15.89</td>\n",
       "    </tr>\n",
       "    <tr>\n",
       "      <th>6</th>\n",
       "      <td>https://projects.propublica.org/nonprofits/ful...</td>\n",
       "      <td>2015</td>\n",
       "      <td>6,165,171</td>\n",
       "      <td>6,165,171</td>\n",
       "      <td>81,365,357</td>\n",
       "      <td>27,378,615</td>\n",
       "      <td>654,421</td>\n",
       "      <td>654,421</td>\n",
       "      <td>583,323</td>\n",
       "      <td>344,703</td>\n",
       "      <td>\\n        √Ç¬†\\n</td>\n",
       "      <td>89,036,435</td>\n",
       "      <td>34,811,073</td>\n",
       "      <td>10.97</td>\n",
       "    </tr>\n",
       "    <tr>\n",
       "      <th>7</th>\n",
       "      <td>https://projects.propublica.org/nonprofits/ful...</td>\n",
       "      <td>2014</td>\n",
       "      <td>8,186,314</td>\n",
       "      <td>8,186,314</td>\n",
       "      <td>73,607,411</td>\n",
       "      <td>24,202,742</td>\n",
       "      <td>320,627</td>\n",
       "      <td>320,627</td>\n",
       "      <td>589,930</td>\n",
       "      <td>277,620</td>\n",
       "      <td>\\n        √Ç¬†\\n</td>\n",
       "      <td>83,733,602</td>\n",
       "      <td>33,805,954</td>\n",
       "      <td>12.17</td>\n",
       "    </tr>\n",
       "    <tr>\n",
       "      <th>8</th>\n",
       "      <td>https://projects.propublica.org/nonprofits/ful...</td>\n",
       "      <td>2013</td>\n",
       "      <td>8,259,183</td>\n",
       "      <td>8,259,183</td>\n",
       "      <td>65,290,154</td>\n",
       "      <td>23,021,308</td>\n",
       "      <td>324,123</td>\n",
       "      <td>324,123</td>\n",
       "      <td>319,032</td>\n",
       "      <td>83,601</td>\n",
       "      <td>\\n        √Ç¬†\\n</td>\n",
       "      <td>75,480,521</td>\n",
       "      <td>32,675,997</td>\n",
       "      <td>11.60</td>\n",
       "    </tr>\n",
       "  </tbody>\n",
       "</table>\n",
       "</div>"
      ],
      "text/plain": [
       "                                                 url  tax_year  \\\n",
       "0  https://projects.propublica.org/nonprofits/ful...      2022   \n",
       "1  https://projects.propublica.org/nonprofits/ful...      2021   \n",
       "2  https://projects.propublica.org/nonprofits/ful...      2020   \n",
       "3  https://projects.propublica.org/nonprofits/ful...      2019   \n",
       "4  https://projects.propublica.org/nonprofits/ful...      2018   \n",
       "5  https://projects.propublica.org/nonprofits/ful...      2017   \n",
       "6  https://projects.propublica.org/nonprofits/ful...      2015   \n",
       "7  https://projects.propublica.org/nonprofits/ful...      2014   \n",
       "8  https://projects.propublica.org/nonprofits/ful...      2013   \n",
       "\n",
       "  financial_assist_total financial_assistance_net medicaid_total medicaid_net  \\\n",
       "0             10,816,048               10,816,048    118,006,816   20,701,445   \n",
       "1              6,902,992                6,902,992    114,278,532   24,068,691   \n",
       "2              7,165,790                7,165,790    108,698,800   30,016,267   \n",
       "3              7,895,292                7,895,292     97,412,935   20,006,951   \n",
       "4              6,297,014                6,297,014     85,203,365   25,568,577   \n",
       "5              4,913,672                4,913,672     86,013,281   45,302,990   \n",
       "6              6,165,171                6,165,171     81,365,357   27,378,615   \n",
       "7              8,186,314                8,186,314     73,607,411   24,202,742   \n",
       "8              8,259,183                8,259,183     65,290,154   23,021,308   \n",
       "\n",
       "  community_health_improvement_scheme_total  \\\n",
       "0                                   803,824   \n",
       "1                                   419,740   \n",
       "2                                   196,950   \n",
       "3                                   172,114   \n",
       "4                                   174,186   \n",
       "5                                       NaN   \n",
       "6                                   654,421   \n",
       "7                                   320,627   \n",
       "8                                   324,123   \n",
       "\n",
       "  community_health_improvement_scheme_net health_prof_edu_total  \\\n",
       "0                                 803,824             1,695,226   \n",
       "1                                 419,740             1,722,155   \n",
       "2                                 196,950             1,607,434   \n",
       "3                                 172,114             2,055,507   \n",
       "4                                 174,186             1,669,396   \n",
       "5                                     NaN             2,002,690   \n",
       "6                                 654,421               583,323   \n",
       "7                                 320,627               589,930   \n",
       "8                                 324,123               319,032   \n",
       "\n",
       "  health_prof_edu_net subsidised_health_service  \\\n",
       "0           1,096,839    \\n        √Ç¬†\\n         \n",
       "1           1,239,060    \\n        √Ç¬†\\n         \n",
       "2           1,164,559    \\n        √Ç¬†\\n         \n",
       "3           1,433,547    \\n        √Ç¬†\\n         \n",
       "4             974,001    \\n        √Ç¬†\\n         \n",
       "5           1,408,326    \\n        √Ç¬†\\n         \n",
       "6             344,703    \\n        √Ç¬†\\n         \n",
       "7             277,620    \\n        √Ç¬†\\n         \n",
       "8              83,601    \\n        √Ç¬†\\n         \n",
       "\n",
       "  grand_total_after_other_benefits grand_net_after_other_benefits  \\\n",
       "0                      131,423,989                     33,520,231   \n",
       "1                      123,379,103                     32,686,167   \n",
       "2                      117,760,110                     38,634,702   \n",
       "3                      107,641,844                     29,613,900   \n",
       "4                       93,418,753                     33,088,570   \n",
       "5                       92,929,643                     51,624,988   \n",
       "6                       89,036,435                     34,811,073   \n",
       "7                       83,733,602                     33,805,954   \n",
       "8                       75,480,521                     32,675,997   \n",
       "\n",
       "   percent_of_total_spending  \n",
       "0                       9.51  \n",
       "1                       9.11  \n",
       "2                      11.30  \n",
       "3                       9.09  \n",
       "4                      10.88  \n",
       "5                      15.89  \n",
       "6                      10.97  \n",
       "7                      12.17  \n",
       "8                      11.60  "
      ]
     },
     "execution_count": 5,
     "metadata": {},
     "output_type": "execute_result"
    }
   ],
   "source": [
    "df2 = pd.read_csv('ingalls_data_20july24_with_percentage_of_spending.csv', encoding='mac_roman')\n",
    "\n",
    "df2"
   ]
  },
  {
   "cell_type": "code",
   "execution_count": 9,
   "id": "25b58e2b-bf8a-4333-a62f-9eb14f8e639b",
   "metadata": {},
   "outputs": [
    {
     "data": {
      "text/plain": [
       "11.168888888888889"
      ]
     },
     "execution_count": 9,
     "metadata": {},
     "output_type": "execute_result"
    }
   ],
   "source": [
    "df2[\"percent_of_total_spending\"].mean(axis=0)"
   ]
  },
  {
   "cell_type": "code",
   "execution_count": null,
   "id": "8a874a4c-00cb-4443-968f-c6cfd71ff56b",
   "metadata": {},
   "outputs": [],
   "source": []
  }
 ],
 "metadata": {
  "kernelspec": {
   "display_name": "Python 3 (ipykernel)",
   "language": "python",
   "name": "python3"
  },
  "language_info": {
   "codemirror_mode": {
    "name": "ipython",
    "version": 3
   },
   "file_extension": ".py",
   "mimetype": "text/x-python",
   "name": "python",
   "nbconvert_exporter": "python",
   "pygments_lexer": "ipython3",
   "version": "3.11.9"
  }
 },
 "nbformat": 4,
 "nbformat_minor": 5
}
